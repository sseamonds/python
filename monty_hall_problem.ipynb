{
 "cells": [
  {
   "cell_type": "code",
   "execution_count": 85,
   "metadata": {},
   "outputs": [
    {
     "name": "stdout",
     "output_type": "stream",
     "text": [
      "win rate : action stay : 0.33422\n",
      "win rate : action switch : 0.66787\n"
     ]
    }
   ],
   "source": [
    "import random\n",
    "\n",
    "def sampleFromDoors(doors):\n",
    "    return random.sample(k=1, population=doors)[0]\n",
    "    \n",
    "#\n",
    "# Simulate the Monty Hall problem - See https://en.wikipedia.org/wiki/Monty_Hall_problem\n",
    "# End result is the percent of times the contestant won a car by performing the given action\n",
    "#\n",
    "# args:\n",
    "#   runs - number of simulations, each ending in a win or loss\n",
    "#   action - what the contestant does after Monty's initial reveal\n",
    "#\n",
    "def monty_hall_sim(runs=100, action='stay'):\n",
    "    DOORS = [1, 2, 3]\n",
    "    wins = 0\n",
    "    \n",
    "    for i in range(1, (runs + 1)):\n",
    "        # where the car is\n",
    "        pickedDoor = random.randint(1, 3)\n",
    "        # where the car is\n",
    "        carDoor = random.randint(1, 3)\n",
    "        # where the goat could be (those which are not car)\n",
    "        goatDoors = list(map(lambda x: x, filter(lambda x: x != carDoor, DOORS)))\n",
    "        # which doors Monty could pick\n",
    "        montyDoors = list(filter(lambda x: x != pickedDoor, goatDoors))\n",
    "        \n",
    "        # What he actually picks\n",
    "        montyDoorIndex = montyDoors.index(sampleFromDoors(montyDoors))\n",
    "        montyDoor = montyDoors[montyDoorIndex]\n",
    "        \n",
    "        if (action == 'switch'):\n",
    "            pickedDoor = sampleFromDoors(list(filter(lambda x: (x != pickedDoor and x != montyDoor), DOORS)))\n",
    "\n",
    "        if (pickedDoor == carDoor):\n",
    "            wins = wins + 1\n",
    "        \n",
    "    print(\"win rate : action {0} : {1}\".format(action, float(wins)/runs))\n",
    "\n",
    "    \n",
    "monty_hall_sim(100000) # action 'stay' converges to 1/3\n",
    "monty_hall_sim(100000, action='switch') # action 'switch' converges to 2/3, better to switch"
   ]
  },
  {
   "cell_type": "code",
   "execution_count": null,
   "metadata": {
    "collapsed": true
   },
   "outputs": [],
   "source": []
  }
 ],
 "metadata": {
  "kernelspec": {
   "display_name": "Python 3",
   "language": "python",
   "name": "python3"
  },
  "language_info": {
   "codemirror_mode": {
    "name": "ipython",
    "version": 3
   },
   "file_extension": ".py",
   "mimetype": "text/x-python",
   "name": "python",
   "nbconvert_exporter": "python",
   "pygments_lexer": "ipython3",
   "version": "3.6.1"
  }
 },
 "nbformat": 4,
 "nbformat_minor": 2
}
